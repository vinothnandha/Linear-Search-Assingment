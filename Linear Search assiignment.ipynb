{
 "cells": [
  {
   "cell_type": "markdown",
   "id": "cc49b749",
   "metadata": {},
   "source": [
    "# Write Linear Search Algorithm"
   ]
  },
  {
   "cell_type": "code",
   "execution_count": 4,
   "id": "0efdd479",
   "metadata": {},
   "outputs": [
    {
     "name": "stdout",
     "output_type": "stream",
     "text": [
      "Element is present at index---> 8\n"
     ]
    }
   ],
   "source": [
    " def search(arr, n, x):\n",
    "        \n",
    "    for i in range(0, n):\n",
    "        if (arr[i] == x):\n",
    "            return i\n",
    "    return -1\n",
    " \n",
    "arr = [2, 3, 4, 10, 40, 50, 60, 70 , 80, 90, 100]\n",
    "x = 80\n",
    "n = len(arr)\n",
    "\n",
    "result = search(arr, n, x)\n",
    "if(result == -1):\n",
    "    print(\"Element is not present in array\")\n",
    "else:\n",
    "    print(\"Element is present at index--->\", result)"
   ]
  },
  {
   "cell_type": "markdown",
   "id": "2002b85c",
   "metadata": {},
   "source": [
    "# Write Binary Search Algorithm"
   ]
  },
  {
   "cell_type": "code",
   "execution_count": 5,
   "id": "4f0e74f4",
   "metadata": {},
   "outputs": [
    {
     "name": "stdout",
     "output_type": "stream",
     "text": [
      "Element is present at index  3\n"
     ]
    }
   ],
   "source": [
    "def binarySearch (arr, l, r, x):\n",
    "    \n",
    "    if r >= l:\n",
    "        \n",
    "        mid = l + (r - l) // 2\n",
    "        \n",
    "        if arr[mid] == x:\n",
    "            \n",
    "            return mid\n",
    "\n",
    "        elif arr[mid] > x:\n",
    "            \n",
    "            return binarySearch(arr, l, mid-1, x)\n",
    "\n",
    "        else:\n",
    "            \n",
    "            return binarySearch(arr, mid + 1, r, x)\n",
    "\n",
    "    else:\n",
    "        return -1\n",
    "\n",
    "arr = [ 2, 3, 4, 10, 40 ]\n",
    "x = 10\n",
    "\n",
    "result = binarySearch(arr, 0, len(arr)-1, x)\n",
    "\n",
    "if result != -1:\n",
    "\tprint (\"Element is present at index % d\" % result)\n",
    "else:\n",
    "\tprint (\"Element is not present in array\")\n"
   ]
  },
  {
   "cell_type": "markdown",
   "id": "84cba30b",
   "metadata": {},
   "source": [
    "# Implement a dictionary sort using bubble sort"
   ]
  },
  {
   "cell_type": "code",
   "execution_count": 9,
   "id": "d0814347",
   "metadata": {},
   "outputs": [
    {
     "name": "stdout",
     "output_type": "stream",
     "text": [
      "Sorted array is:\n",
      "11,12,22,25,34,64,90,"
     ]
    }
   ],
   "source": [
    "def bubbleSort(arr):\n",
    "    n = len(arr)\n",
    " \n",
    "    for i in range(n-1):\n",
    "        for j in range(0, n-i-1):\n",
    "            if arr[j] > arr[j + 1] :\n",
    "                arr[j], arr[j + 1] = arr[j + 1], arr[j]\n",
    " \n",
    "arr = [64, 34, 25, 12, 22, 11, 90]\n",
    " \n",
    "bubbleSort(arr)\n",
    " \n",
    "print (\"Sorted array is:\")\n",
    "for i in range(len(arr)):\n",
    "    print (arr[i], end=\",\")"
   ]
  },
  {
   "cell_type": "markdown",
   "id": "693fa6b5",
   "metadata": {},
   "source": [
    "# Sort an array of numbers using insertion sort"
   ]
  },
  {
   "cell_type": "code",
   "execution_count": 11,
   "id": "05e5a644",
   "metadata": {},
   "outputs": [
    {
     "name": "stdout",
     "output_type": "stream",
     "text": [
      "Sorted Array in Ascending Order:\n",
      "[1, 3, 4, 5, 9]\n"
     ]
    }
   ],
   "source": [
    "def insertionSort(array):\n",
    "\n",
    "    for step in range(1, len(array)):\n",
    "        key = array[step]\n",
    "        j = step - 1        \n",
    "        while j >= 0 and key < array[j]:\n",
    "            array[j + 1] = array[j]\n",
    "            j = j - 1\n",
    "        array[j + 1] = key\n",
    "\n",
    "\n",
    "data = [9, 5, 1, 4, 3]\n",
    "insertionSort(data)\n",
    "print('Sorted Array in Ascending Order:')\n",
    "print(data)"
   ]
  },
  {
   "cell_type": "markdown",
   "id": "9c3f5dac",
   "metadata": {},
   "source": [
    "# Sort an array of numbers using selection sort"
   ]
  },
  {
   "cell_type": "code",
   "execution_count": 12,
   "id": "6d085847",
   "metadata": {},
   "outputs": [
    {
     "name": "stdout",
     "output_type": "stream",
     "text": [
      "Sorted Array in Ascending Order:\n",
      "[-9, -2, 0, 11, 45]\n"
     ]
    }
   ],
   "source": [
    "def selectionSort(array, size):\n",
    "   \n",
    "    for step in range(size):\n",
    "        min_idx = step\n",
    "\n",
    "        for i in range(step + 1, size):\n",
    "            if array[i] < array[min_idx]:\n",
    "                min_idx = i\n",
    "                \n",
    "        (array[step], array[min_idx]) = (array[min_idx], array[step])\n",
    "\n",
    "data = [-2, 45, 0, 11, -9]\n",
    "size = len(data)\n",
    "selectionSort(data, size)\n",
    "print('Sorted Array in Ascending Order:')\n",
    "print(data)"
   ]
  },
  {
   "cell_type": "code",
   "execution_count": null,
   "id": "93b0d99d",
   "metadata": {},
   "outputs": [],
   "source": []
  }
 ],
 "metadata": {
  "kernelspec": {
   "display_name": "Python 3 (ipykernel)",
   "language": "python",
   "name": "python3"
  },
  "language_info": {
   "codemirror_mode": {
    "name": "ipython",
    "version": 3
   },
   "file_extension": ".py",
   "mimetype": "text/x-python",
   "name": "python",
   "nbconvert_exporter": "python",
   "pygments_lexer": "ipython3",
   "version": "3.9.6"
  }
 },
 "nbformat": 4,
 "nbformat_minor": 5
}
